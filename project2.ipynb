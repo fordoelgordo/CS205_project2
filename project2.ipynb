{
  "nbformat": 4,
  "nbformat_minor": 0,
  "metadata": {
    "interpreter": {
      "hash": "ac59ebe37160ed0dfa835113d9b8498d9f09ceb179beaac4002f036b9467c963"
    },
    "kernelspec": {
      "name": "python3",
      "display_name": "Python 3 (ipykernel)",
      "language": "python"
    },
    "language_info": {
      "name": "python",
      "version": "3.7.10",
      "mimetype": "text/x-python",
      "codemirror_mode": {
        "name": "ipython",
        "version": 3
      },
      "pygments_lexer": "ipython3",
      "nbconvert_exporter": "python",
      "file_extension": ".py"
    },
    "colab": {
      "name": "project2.ipynb",
      "provenance": []
    }
  },
  "cells": [
    {
      "cell_type": "markdown",
      "metadata": {
        "id": "NMluSwQpjw94"
      },
      "source": [
        "## Fake News or Not?\n",
        "#### Ford St. John and Matthew Duc Nguyen\n",
        "<img src=\"https://static01.nyt.com/images/2019/10/02/business/02TRUMPMEDIA-01/02TRUMPMEDIA-01-superJumbo.jpg\" height=500 width=750>\n",
        "\n",
        "Using the Kaggle dataset [Fake News](https://www.kaggle.com/c/fake-news/data) we will attempt to train a machine learning model that can identify news articles as \"reliable\" or \"unreliable\" (e.g. fake) based on the following article attributes\n",
        "1. id: a unique ID to identify the article\n",
        "2. title: the title of the news article\n",
        "3. author: the author of the news article\n",
        "4. text: the content (actual text) of the news article; may or may not be incomplete\n",
        "\n",
        "Articles are labeled with a boolean 1|0 indicator with 1 = \"unreliable\" and 0 = \"reliable\""
      ]
    },
    {
      "cell_type": "markdown",
      "metadata": {
        "id": "CCK2ilRdjw9-"
      },
      "source": [
        "## Step 1: Exploratory data analysis\n",
        "Before undertaking any model training, we want to get a feel for the data and identify features that we think might merit further exploration.  Our dataset has been pre-split for us into a training and testing set.  We'll use the training dataset to train our model, and use the testing dataset to test our model on data it's never seen before"
      ]
    },
    {
      "cell_type": "code",
      "metadata": {
        "id": "iwjDpH6cuCnt"
      },
      "source": [
        "# Check if the kaggle.json file is in our local directory. If not we need to retrive it from Google Drive\n",
        "from pydrive.auth import GoogleAuth\n",
        "from pydrive.drive import GoogleDrive\n",
        "from google.colab import auth\n",
        "from oauth2client.client import GoogleCredentials\n",
        "import os\n",
        "import shutil\n",
        "import stat\n",
        "\n",
        "if not os.path.exists(os.path.join(os.getcwd(), 'kaggle.json')):  \n",
        "  auth.authenticate_user()\n",
        "  gauth = GoogleAuth()\n",
        "  gauth.credentials = GoogleCredentials.get_application_default()\n",
        "  drive = GoogleDrive(gauth)\n",
        "  file_list = drive.ListFile({'q': \"'root' in parents and trashed=false\"}).GetList()\n",
        "  for f in file_list:\n",
        "    if f['title'] == 'kaggle.json':\n",
        "      f.GetContentFile('kaggle.json')  \n",
        "\n",
        "# Move kaggle.json to the .kaggle directory in /root\n",
        "if not os.path.exists('/root/.kaggle/kaggle.json'):\n",
        "  filepath = os.path.join(os.getcwd(), 'kaggle.json')\n",
        "  shutil.move(filepath, '/root/.kaggle/')\n",
        "  os.chmod('/root/.kaggle/kaggle.json', stat.S_IRWXU)"
      ],
      "execution_count": 28,
      "outputs": []
    },
    {
      "cell_type": "code",
      "metadata": {
        "trusted": true,
        "id": "9SZe7Qctjw-A"
      },
      "source": [
        "# Ensure the kaggle.json credentials are located in the correct directory.  This is needed to run the kaggle API\n",
        "!cd ~/.kaggle\n",
        "!mv kaggle.json ~/.kaggle/kaggle.json\n",
        "!chmod 600 ~/.kaggle/kaggle.json"
      ],
      "execution_count": 11,
      "outputs": []
    },
    {
      "cell_type": "code",
      "metadata": {
        "trusted": true,
        "id": "ntI5Xdk0jw-B",
        "colab": {
          "base_uri": "https://localhost:8080/"
        },
        "outputId": "45613871-3710-4036-b2ad-5d17f17a1471"
      },
      "source": [
        "# Imports needed to acquire and hold our data\n",
        "import pandas as pd\n",
        "import kaggle\n",
        "\n",
        "# Import the data using the kaggle API\n",
        "!kaggle competitions download -c fake-news\n",
        "\n",
        "# Unzip the data and read it in as a Pandas DataFrame\n",
        "from zipfile import ZipFile\n",
        "if 'test.csv.zip' in os.listdir('.') and 'train.csv.zip' in os.listdir('.'):\n",
        "  with ZipFile('test.csv.zip', 'r') as zipobj:\n",
        "    zipobj.extractall()\n",
        "  with ZipFile('train.csv.zip') as zipobj:\n",
        "    zipobj.extractall()\n",
        "else:\n",
        "  with ZipFile('fake-news.zip', 'r') as zipobj:\n",
        "    zipobj.extractall()\n",
        "train = pd.read_csv('train.csv')\n",
        "test = pd.read_csv('test.csv')\n",
        "submit = pd.read_csv('submit.csv')\n",
        "\n",
        "# Join the test and submit datasets together.  Submit contains the \"true\" classification for the articles present in the test dataset\n",
        "test = pd.merge(test, submit)"
      ],
      "execution_count": 12,
      "outputs": [
        {
          "output_type": "stream",
          "name": "stdout",
          "text": [
            "Warning: Looks like you're using an outdated API Version, please consider updating (server 1.5.12 / client 1.5.4)\n",
            "Downloading test.csv.zip to /content\n",
            " 74% 7.00M/9.42M [00:00<00:00, 69.8MB/s]\n",
            "100% 9.42M/9.42M [00:00<00:00, 60.0MB/s]\n",
            "Downloading submit.csv to /content\n",
            "  0% 0.00/40.6k [00:00<?, ?B/s]\n",
            "100% 40.6k/40.6k [00:00<00:00, 50.6MB/s]\n",
            "Downloading train.csv.zip to /content\n",
            " 67% 25.0M/37.0M [00:00<00:00, 53.7MB/s]\n",
            "100% 37.0M/37.0M [00:00<00:00, 83.4MB/s]\n"
          ]
        }
      ]
    },
    {
      "cell_type": "markdown",
      "metadata": {
        "id": "bZAcmEZRjw-D"
      },
      "source": [
        "With our data loaded, we can now begin to explore our data.  We'll start by simply looking at the head of both datasets.  We'll then look at the relative number of \"fake\" news articles to reliable news articles and compare those rates in our training and testing datasets"
      ]
    },
    {
      "cell_type": "code",
      "metadata": {
        "trusted": true,
        "id": "GkTtREltjw-E",
        "colab": {
          "base_uri": "https://localhost:8080/"
        },
        "outputId": "fec43e66-8010-4d8b-8846-a0d09d765051"
      },
      "source": [
        "# Let's look at the first few records of our data \n",
        "print(\"******** Training dataset *************\")\n",
        "print(train.head(5))\n",
        "print(\"****************************************\")\n",
        "print()\n",
        "print(\"********* Testing dataset **************\")\n",
        "print(test.head(5))\n",
        "print(\"*****************************************\")"
      ],
      "execution_count": 13,
      "outputs": [
        {
          "output_type": "stream",
          "name": "stdout",
          "text": [
            "******** Training dataset *************\n",
            "   id  ... label\n",
            "0   0  ...     1\n",
            "1   1  ...     0\n",
            "2   2  ...     1\n",
            "3   3  ...     1\n",
            "4   4  ...     1\n",
            "\n",
            "[5 rows x 5 columns]\n",
            "****************************************\n",
            "\n",
            "********* Testing dataset **************\n",
            "      id  ... label\n",
            "0  20800  ...     0\n",
            "1  20801  ...     1\n",
            "2  20802  ...     0\n",
            "3  20803  ...     1\n",
            "4  20804  ...     1\n",
            "\n",
            "[5 rows x 5 columns]\n",
            "*****************************************\n"
          ]
        }
      ]
    },
    {
      "cell_type": "code",
      "metadata": {
        "trusted": true,
        "id": "OfnCuD-pjw-F",
        "outputId": "1572a2d1-f40e-4132-9350-ec17b5323f58",
        "colab": {
          "base_uri": "https://localhost:8080/",
          "height": 330
        }
      },
      "source": [
        "# Let's look at the relative rates of fake news to reliable news\n",
        "# Import visualization packages\n",
        "import seaborn as sns \n",
        "import matplotlib.pyplot as plt\n",
        "import warnings\n",
        "warnings.filterwarnings('ignore')\n",
        "\n",
        "# Prepare training set data\n",
        "train_counts = train['label'].value_counts()\n",
        "train_counts.rename({0: 'reliable', 1: 'unreliable'}, inplace=True)\n",
        "# Prepare testing set data\n",
        "test_counts = test['label'].value_counts()\n",
        "test_counts.rename({0: 'reliable', 1: 'unreliable'}, inplace=True)\n",
        "\n",
        "# Plot it\n",
        "fig, (ax1, ax2) = plt.subplots(nrows=1, ncols=2, constrained_layout=True)\n",
        "#fig.tight_layout()\n",
        "sns.barplot(x=train_counts.index, y=train_counts, ax=ax1)\n",
        "ax1.set_xlabel('Training data class frequency')\n",
        "ax1.set_ylabel('Count')\n",
        "sns.barplot(x=test_counts.index, y=test_counts, ax=ax2)\n",
        "ax2.set_xlabel('Testing data class frequency')\n",
        "ax2.set_ylabel('Count')"
      ],
      "execution_count": 14,
      "outputs": [
        {
          "output_type": "execute_result",
          "data": {
            "text/plain": [
              "Text(0, 0.5, 'Count')"
            ]
          },
          "metadata": {},
          "execution_count": 14
        },
        {
          "output_type": "display_data",
          "data": {
            "image/png": "[encoded data removed]",
            "text/plain": [
              "<Figure size 432x288 with 2 Axes>"
            ]
          },
          "metadata": {
            "needs_background": "light"
          }
        }
      ]
    },
    {
      "cell_type": "markdown",
      "metadata": {
        "id": "u7a4mZcUjw-G"
      },
      "source": [
        "So it looks like it's a 50:50 split between \"fake\" articles and reliable articles in our training dataset, and > 50% of the articles in our test dataset are labeled as fake (unreliable).  The distributions are relatively similar between the two datasets, so we won't worry too much that there's a variance.  Next, let's check and see if any of our records contain missing values."
      ]
    },
    {
      "cell_type": "code",
      "metadata": {
        "trusted": true,
        "id": "fSU2amN7jw-H",
        "outputId": "70ff232c-dd8b-458f-9d66-025c0a9161b1",
        "colab": {
          "base_uri": "https://localhost:8080/"
        }
      },
      "source": [
        "train.isna().sum()"
      ],
      "execution_count": 16,
      "outputs": [
        {
          "output_type": "execute_result",
          "data": {
            "text/plain": [
              "id           0\n",
              "title      558\n",
              "author    1957\n",
              "text        39\n",
              "label        0\n",
              "dtype: int64"
            ]
          },
          "metadata": {},
          "execution_count": 16
        }
      ]
    },
    {
      "cell_type": "markdown",
      "metadata": {
        "id": "R6E56CHTjw-I"
      },
      "source": [
        "There are 558 records missing a title, 1957 records missing the author and 39 records missing any article content at all.  We likely want to drop records that don't contain any article content.  How can an article be fake news or not if it doesn't contain any content?  Let's quickly look at the data records that are listed as missing \"text\""
      ]
    },
    {
      "cell_type": "code",
      "metadata": {
        "trusted": true,
        "id": "QgGrSY-ejw-I",
        "outputId": "2aea8b52-a618-4a3e-a5bf-2ebd8223a349",
        "colab": {
          "base_uri": "https://localhost:8080/",
          "height": 1000
        }
      },
      "source": [
        "missing_text = train[train.text.isna()]\n",
        "missing_text"
      ],
      "execution_count": 15,
      "outputs": [
        {
          "output_type": "execute_result",
          "data": {
            "text/html": [
              "<div>\n",
              "<style scoped>\n",
              "    .dataframe tbody tr th:only-of-type {\n",
              "        vertical-align: middle;\n",
              "    }\n",
              "\n",
              "    .dataframe tbody tr th {\n",
              "        vertical-align: top;\n",
              "    }\n",
              "\n",
              "    .dataframe thead th {\n",
              "        text-align: right;\n",
              "    }\n",
              "</style>\n",
              "<table border=\"1\" class=\"dataframe\">\n",
              "  <thead>\n",
              "    <tr style=\"text-align: right;\">\n",
              "      <th></th>\n",
              "      <th>id</th>\n",
              "      <th>title</th>\n",
              "      <th>author</th>\n",
              "      <th>text</th>\n",
              "      <th>label</th>\n",
              "    </tr>\n",
              "  </thead>\n",
              "  <tbody>\n",
              "    <tr>\n",
              "      <th>142</th>\n",
              "      <td>142</td>\n",
              "      <td>Gorafi Magazine : Entretien exclusif avec Bara...</td>\n",
              "      <td>NaN</td>\n",
              "      <td>NaN</td>\n",
              "      <td>1</td>\n",
              "    </tr>\n",
              "    <tr>\n",
              "      <th>573</th>\n",
              "      <td>573</td>\n",
              "      <td>Le top des recherches Google passe en top des ...</td>\n",
              "      <td>NaN</td>\n",
              "      <td>NaN</td>\n",
              "      <td>1</td>\n",
              "    </tr>\n",
              "    <tr>\n",
              "      <th>1200</th>\n",
              "      <td>1200</td>\n",
              "      <td>La Corée du Nord annonce avoir envoyé un missi...</td>\n",
              "      <td>NaN</td>\n",
              "      <td>NaN</td>\n",
              "      <td>1</td>\n",
              "    </tr>\n",
              "    <tr>\n",
              "      <th>1911</th>\n",
              "      <td>1911</td>\n",
              "      <td>Grand-Prix du Brésil – Romain Grosjean obtient...</td>\n",
              "      <td>NaN</td>\n",
              "      <td>NaN</td>\n",
              "      <td>1</td>\n",
              "    </tr>\n",
              "    <tr>\n",
              "      <th>2148</th>\n",
              "      <td>2148</td>\n",
              "      <td>Gorafi Magazine: Barack Obama « Je vous ai déj...</td>\n",
              "      <td>NaN</td>\n",
              "      <td>NaN</td>\n",
              "      <td>1</td>\n",
              "    </tr>\n",
              "    <tr>\n",
              "      <th>2169</th>\n",
              "      <td>2169</td>\n",
              "      <td>#NDDL: Pour fêter l’autorisation des travaux, ...</td>\n",
              "      <td>NaN</td>\n",
              "      <td>NaN</td>\n",
              "      <td>1</td>\n",
              "    </tr>\n",
              "    <tr>\n",
              "      <th>2793</th>\n",
              "      <td>2793</td>\n",
              "      <td>«Pourquoi je suis candidat à la présidentielle...</td>\n",
              "      <td>NaN</td>\n",
              "      <td>NaN</td>\n",
              "      <td>1</td>\n",
              "    </tr>\n",
              "    <tr>\n",
              "      <th>3329</th>\n",
              "      <td>3329</td>\n",
              "      <td>GuinessBook : 100 millions d’Américains batten...</td>\n",
              "      <td>NaN</td>\n",
              "      <td>NaN</td>\n",
              "      <td>1</td>\n",
              "    </tr>\n",
              "    <tr>\n",
              "      <th>3729</th>\n",
              "      <td>3729</td>\n",
              "      <td>Les Américains ne sont plus qu’à quelques heur...</td>\n",
              "      <td>NaN</td>\n",
              "      <td>NaN</td>\n",
              "      <td>1</td>\n",
              "    </tr>\n",
              "    <tr>\n",
              "      <th>4288</th>\n",
              "      <td>4288</td>\n",
              "      <td>Hillary Clinton en 5 dates &gt;&gt; Le Gorafi</td>\n",
              "      <td>NaN</td>\n",
              "      <td>NaN</td>\n",
              "      <td>1</td>\n",
              "    </tr>\n",
              "    <tr>\n",
              "      <th>4358</th>\n",
              "      <td>4358</td>\n",
              "      <td>Ne supportant plus l’ambiance de la campagne é...</td>\n",
              "      <td>NaN</td>\n",
              "      <td>NaN</td>\n",
              "      <td>1</td>\n",
              "    </tr>\n",
              "    <tr>\n",
              "      <th>5717</th>\n",
              "      <td>5717</td>\n",
              "      <td>SPA : Enfermé depuis trois jours dans une cage...</td>\n",
              "      <td>NaN</td>\n",
              "      <td>NaN</td>\n",
              "      <td>1</td>\n",
              "    </tr>\n",
              "    <tr>\n",
              "      <th>6215</th>\n",
              "      <td>6215</td>\n",
              "      <td>New-York – Le lâcher de confettis prévu à Time...</td>\n",
              "      <td>NaN</td>\n",
              "      <td>NaN</td>\n",
              "      <td>1</td>\n",
              "    </tr>\n",
              "    <tr>\n",
              "      <th>6680</th>\n",
              "      <td>6680</td>\n",
              "      <td>Débat Primaire de la Droite : les Français pas...</td>\n",
              "      <td>NaN</td>\n",
              "      <td>NaN</td>\n",
              "      <td>1</td>\n",
              "    </tr>\n",
              "    <tr>\n",
              "      <th>8649</th>\n",
              "      <td>8649</td>\n",
              "      <td>Donald Trump s’excuse pour toutes les minorité...</td>\n",
              "      <td>NaN</td>\n",
              "      <td>NaN</td>\n",
              "      <td>1</td>\n",
              "    </tr>\n",
              "    <tr>\n",
              "      <th>8908</th>\n",
              "      <td>8908</td>\n",
              "      <td>“Notre batal a coulé” par l’homme qui fait des...</td>\n",
              "      <td>NaN</td>\n",
              "      <td>NaN</td>\n",
              "      <td>1</td>\n",
              "    </tr>\n",
              "    <tr>\n",
              "      <th>8922</th>\n",
              "      <td>8922</td>\n",
              "      <td>La Trump Tower cambriolée – les voleurs seraie...</td>\n",
              "      <td>NaN</td>\n",
              "      <td>NaN</td>\n",
              "      <td>1</td>\n",
              "    </tr>\n",
              "    <tr>\n",
              "      <th>9350</th>\n",
              "      <td>9350</td>\n",
              "      <td>La Russie a profité de l’élection américaine p...</td>\n",
              "      <td>NaN</td>\n",
              "      <td>NaN</td>\n",
              "      <td>1</td>\n",
              "    </tr>\n",
              "    <tr>\n",
              "      <th>9446</th>\n",
              "      <td>9446</td>\n",
              "      <td>Trop essoufflé après avoir cherché ses affaire...</td>\n",
              "      <td>NaN</td>\n",
              "      <td>NaN</td>\n",
              "      <td>1</td>\n",
              "    </tr>\n",
              "    <tr>\n",
              "      <th>9454</th>\n",
              "      <td>9454</td>\n",
              "      <td>Il saoule tout le monde avec son analyse polit...</td>\n",
              "      <td>NaN</td>\n",
              "      <td>NaN</td>\n",
              "      <td>1</td>\n",
              "    </tr>\n",
              "    <tr>\n",
              "      <th>9524</th>\n",
              "      <td>9524</td>\n",
              "      <td>Elections US : les premières estimations donne...</td>\n",
              "      <td>NaN</td>\n",
              "      <td>NaN</td>\n",
              "      <td>1</td>\n",
              "    </tr>\n",
              "    <tr>\n",
              "      <th>10466</th>\n",
              "      <td>10466</td>\n",
              "      <td>Sur Twitter, Donald Trump se félicite d’avoir ...</td>\n",
              "      <td>NaN</td>\n",
              "      <td>NaN</td>\n",
              "      <td>1</td>\n",
              "    </tr>\n",
              "    <tr>\n",
              "      <th>10867</th>\n",
              "      <td>10867</td>\n",
              "      <td>Live Soirée présidentielle US 2016 &gt;&gt; Le Gorafi</td>\n",
              "      <td>NaN</td>\n",
              "      <td>NaN</td>\n",
              "      <td>1</td>\n",
              "    </tr>\n",
              "    <tr>\n",
              "      <th>11450</th>\n",
              "      <td>11450</td>\n",
              "      <td>Vladimir Poutine est élu 45e Président des Eta...</td>\n",
              "      <td>NaN</td>\n",
              "      <td>NaN</td>\n",
              "      <td>1</td>\n",
              "    </tr>\n",
              "    <tr>\n",
              "      <th>11486</th>\n",
              "      <td>11486</td>\n",
              "      <td>Pour booster les ventes, Dassault offre un por...</td>\n",
              "      <td>NaN</td>\n",
              "      <td>NaN</td>\n",
              "      <td>1</td>\n",
              "    </tr>\n",
              "    <tr>\n",
              "      <th>12056</th>\n",
              "      <td>12056</td>\n",
              "      <td>Après le succès de « Mariés au premier regard ...</td>\n",
              "      <td>NaN</td>\n",
              "      <td>NaN</td>\n",
              "      <td>1</td>\n",
              "    </tr>\n",
              "    <tr>\n",
              "      <th>12460</th>\n",
              "      <td>12460</td>\n",
              "      <td>La voyante lisait l’avenir dans les cartes ble...</td>\n",
              "      <td>NaN</td>\n",
              "      <td>NaN</td>\n",
              "      <td>1</td>\n",
              "    </tr>\n",
              "    <tr>\n",
              "      <th>12835</th>\n",
              "      <td>12835</td>\n",
              "      <td>[Vidéo] Découvrez le Gorafi de l’Année 2017 &gt;&gt;...</td>\n",
              "      <td>NaN</td>\n",
              "      <td>NaN</td>\n",
              "      <td>1</td>\n",
              "    </tr>\n",
              "    <tr>\n",
              "      <th>13020</th>\n",
              "      <td>13020</td>\n",
              "      <td>Horoscope du 21 novembre 2016 &gt;&gt; Le Gorafi</td>\n",
              "      <td>NaN</td>\n",
              "      <td>NaN</td>\n",
              "      <td>1</td>\n",
              "    </tr>\n",
              "    <tr>\n",
              "      <th>13107</th>\n",
              "      <td>13107</td>\n",
              "      <td>Les gardes-frontières se mettent en alerte pou...</td>\n",
              "      <td>NaN</td>\n",
              "      <td>NaN</td>\n",
              "      <td>1</td>\n",
              "    </tr>\n",
              "    <tr>\n",
              "      <th>13915</th>\n",
              "      <td>13915</td>\n",
              "      <td>Elle met en fuite un braqueur en lui jetant de...</td>\n",
              "      <td>NaN</td>\n",
              "      <td>NaN</td>\n",
              "      <td>1</td>\n",
              "    </tr>\n",
              "    <tr>\n",
              "      <th>14499</th>\n",
              "      <td>14499</td>\n",
              "      <td>Primaire – François Fillon se désiste au profi...</td>\n",
              "      <td>NaN</td>\n",
              "      <td>NaN</td>\n",
              "      <td>1</td>\n",
              "    </tr>\n",
              "    <tr>\n",
              "      <th>14933</th>\n",
              "      <td>14933</td>\n",
              "      <td>La sortie du dernier livre inédit du Gorafi éc...</td>\n",
              "      <td>NaN</td>\n",
              "      <td>NaN</td>\n",
              "      <td>1</td>\n",
              "    </tr>\n",
              "    <tr>\n",
              "      <th>16126</th>\n",
              "      <td>16126</td>\n",
              "      <td>Vendée Globe – Un skipper fait demi-tour après...</td>\n",
              "      <td>NaN</td>\n",
              "      <td>NaN</td>\n",
              "      <td>1</td>\n",
              "    </tr>\n",
              "    <tr>\n",
              "      <th>18479</th>\n",
              "      <td>18479</td>\n",
              "      <td>Il se fait cryogéniser dans l’espoir de voir u...</td>\n",
              "      <td>NaN</td>\n",
              "      <td>NaN</td>\n",
              "      <td>1</td>\n",
              "    </tr>\n",
              "    <tr>\n",
              "      <th>18757</th>\n",
              "      <td>18757</td>\n",
              "      <td>Donald Trump en 5 dates &gt;&gt; Le Gorafi</td>\n",
              "      <td>NaN</td>\n",
              "      <td>NaN</td>\n",
              "      <td>1</td>\n",
              "    </tr>\n",
              "    <tr>\n",
              "      <th>19157</th>\n",
              "      <td>19157</td>\n",
              "      <td>110% des Américains assurent qu’ils continuero...</td>\n",
              "      <td>NaN</td>\n",
              "      <td>NaN</td>\n",
              "      <td>1</td>\n",
              "    </tr>\n",
              "    <tr>\n",
              "      <th>19227</th>\n",
              "      <td>19227</td>\n",
              "      <td>Des millions d’Américains recherchent massivem...</td>\n",
              "      <td>NaN</td>\n",
              "      <td>NaN</td>\n",
              "      <td>1</td>\n",
              "    </tr>\n",
              "    <tr>\n",
              "      <th>19388</th>\n",
              "      <td>19388</td>\n",
              "      <td>Heureux et souriant, il a la chance de toujour...</td>\n",
              "      <td>NaN</td>\n",
              "      <td>NaN</td>\n",
              "      <td>1</td>\n",
              "    </tr>\n",
              "  </tbody>\n",
              "</table>\n",
              "</div>"
            ],
            "text/plain": [
              "          id                                              title  ... text label\n",
              "142      142  Gorafi Magazine : Entretien exclusif avec Bara...  ...  NaN     1\n",
              "573      573  Le top des recherches Google passe en top des ...  ...  NaN     1\n",
              "1200    1200  La Corée du Nord annonce avoir envoyé un missi...  ...  NaN     1\n",
              "1911    1911  Grand-Prix du Brésil – Romain Grosjean obtient...  ...  NaN     1\n",
              "2148    2148  Gorafi Magazine: Barack Obama « Je vous ai déj...  ...  NaN     1\n",
              "2169    2169  #NDDL: Pour fêter l’autorisation des travaux, ...  ...  NaN     1\n",
              "2793    2793  «Pourquoi je suis candidat à la présidentielle...  ...  NaN     1\n",
              "3329    3329  GuinessBook : 100 millions d’Américains batten...  ...  NaN     1\n",
              "3729    3729  Les Américains ne sont plus qu’à quelques heur...  ...  NaN     1\n",
              "4288    4288            Hillary Clinton en 5 dates >> Le Gorafi  ...  NaN     1\n",
              "4358    4358  Ne supportant plus l’ambiance de la campagne é...  ...  NaN     1\n",
              "5717    5717  SPA : Enfermé depuis trois jours dans une cage...  ...  NaN     1\n",
              "6215    6215  New-York – Le lâcher de confettis prévu à Time...  ...  NaN     1\n",
              "6680    6680  Débat Primaire de la Droite : les Français pas...  ...  NaN     1\n",
              "8649    8649  Donald Trump s’excuse pour toutes les minorité...  ...  NaN     1\n",
              "8908    8908  “Notre batal a coulé” par l’homme qui fait des...  ...  NaN     1\n",
              "8922    8922  La Trump Tower cambriolée – les voleurs seraie...  ...  NaN     1\n",
              "9350    9350  La Russie a profité de l’élection américaine p...  ...  NaN     1\n",
              "9446    9446  Trop essoufflé après avoir cherché ses affaire...  ...  NaN     1\n",
              "9454    9454  Il saoule tout le monde avec son analyse polit...  ...  NaN     1\n",
              "9524    9524  Elections US : les premières estimations donne...  ...  NaN     1\n",
              "10466  10466  Sur Twitter, Donald Trump se félicite d’avoir ...  ...  NaN     1\n",
              "10867  10867    Live Soirée présidentielle US 2016 >> Le Gorafi  ...  NaN     1\n",
              "11450  11450  Vladimir Poutine est élu 45e Président des Eta...  ...  NaN     1\n",
              "11486  11486  Pour booster les ventes, Dassault offre un por...  ...  NaN     1\n",
              "12056  12056  Après le succès de « Mariés au premier regard ...  ...  NaN     1\n",
              "12460  12460  La voyante lisait l’avenir dans les cartes ble...  ...  NaN     1\n",
              "12835  12835  [Vidéo] Découvrez le Gorafi de l’Année 2017 >>...  ...  NaN     1\n",
              "13020  13020         Horoscope du 21 novembre 2016 >> Le Gorafi  ...  NaN     1\n",
              "13107  13107  Les gardes-frontières se mettent en alerte pou...  ...  NaN     1\n",
              "13915  13915  Elle met en fuite un braqueur en lui jetant de...  ...  NaN     1\n",
              "14499  14499  Primaire – François Fillon se désiste au profi...  ...  NaN     1\n",
              "14933  14933  La sortie du dernier livre inédit du Gorafi éc...  ...  NaN     1\n",
              "16126  16126  Vendée Globe – Un skipper fait demi-tour après...  ...  NaN     1\n",
              "18479  18479  Il se fait cryogéniser dans l’espoir de voir u...  ...  NaN     1\n",
              "18757  18757               Donald Trump en 5 dates >> Le Gorafi  ...  NaN     1\n",
              "19157  19157  110% des Américains assurent qu’ils continuero...  ...  NaN     1\n",
              "19227  19227  Des millions d’Américains recherchent massivem...  ...  NaN     1\n",
              "19388  19388  Heureux et souriant, il a la chance de toujour...  ...  NaN     1\n",
              "\n",
              "[39 rows x 5 columns]"
            ]
          },
          "metadata": {},
          "execution_count": 15
        }
      ]
    },
    {
      "cell_type": "markdown",
      "metadata": {
        "id": "FawcVWsKjw-J"
      },
      "source": [
        "Makes sense - an article that doesn't have any text is \"unreliable\".  But this isn't really interesting for prediction purposes, so let's remove these records that have missing article content from our training and testing sets"
      ]
    },
    {
      "cell_type": "code",
      "metadata": {
        "trusted": true,
        "id": "L31QbVUWjw-J"
      },
      "source": [
        "train = train[train.text.notna()]\n",
        "test = test[test.text.notna()]"
      ],
      "execution_count": 17,
      "outputs": []
    },
    {
      "cell_type": "markdown",
      "metadata": {
        "id": "CkZjACqZjw-J"
      },
      "source": [
        "Articles that are missing the author or title are probably pretty suspect, let's see if we can confirm that with a confusion matrix"
      ]
    },
    {
      "cell_type": "code",
      "metadata": {
        "trusted": true,
        "id": "z48p_KQOjw-K",
        "outputId": "23aaa0ce-7cc3-44cb-e993-881528685acf",
        "colab": {
          "base_uri": "https://localhost:8080/",
          "height": 143
        }
      },
      "source": [
        "pd.crosstab(train.author.isna(), train.label, rownames=['Missing Author'], normalize='index')"
      ],
      "execution_count": 18,
      "outputs": [
        {
          "output_type": "execute_result",
          "data": {
            "text/html": [
              "<div>\n",
              "<style scoped>\n",
              "    .dataframe tbody tr th:only-of-type {\n",
              "        vertical-align: middle;\n",
              "    }\n",
              "\n",
              "    .dataframe tbody tr th {\n",
              "        vertical-align: top;\n",
              "    }\n",
              "\n",
              "    .dataframe thead th {\n",
              "        text-align: right;\n",
              "    }\n",
              "</style>\n",
              "<table border=\"1\" class=\"dataframe\">\n",
              "  <thead>\n",
              "    <tr style=\"text-align: right;\">\n",
              "      <th>label</th>\n",
              "      <th>0</th>\n",
              "      <th>1</th>\n",
              "    </tr>\n",
              "    <tr>\n",
              "      <th>Missing Author</th>\n",
              "      <th></th>\n",
              "      <th></th>\n",
              "    </tr>\n",
              "  </thead>\n",
              "  <tbody>\n",
              "    <tr>\n",
              "      <th>False</th>\n",
              "      <td>0.549859</td>\n",
              "      <td>0.450141</td>\n",
              "    </tr>\n",
              "    <tr>\n",
              "      <th>True</th>\n",
              "      <td>0.013556</td>\n",
              "      <td>0.986444</td>\n",
              "    </tr>\n",
              "  </tbody>\n",
              "</table>\n",
              "</div>"
            ],
            "text/plain": [
              "label                  0         1\n",
              "Missing Author                    \n",
              "False           0.549859  0.450141\n",
              "True            0.013556  0.986444"
            ]
          },
          "metadata": {},
          "execution_count": 18
        }
      ]
    },
    {
      "cell_type": "code",
      "metadata": {
        "trusted": true,
        "id": "yxhAOv6Bjw-K",
        "outputId": "632725eb-1e32-4b4d-e567-0c963119fdbe",
        "colab": {
          "base_uri": "https://localhost:8080/",
          "height": 143
        }
      },
      "source": [
        "pd.crosstab(train.title.isna(), train.label, rownames=['Missing Title'], normalize='index')"
      ],
      "execution_count": 19,
      "outputs": [
        {
          "output_type": "execute_result",
          "data": {
            "text/html": [
              "<div>\n",
              "<style scoped>\n",
              "    .dataframe tbody tr th:only-of-type {\n",
              "        vertical-align: middle;\n",
              "    }\n",
              "\n",
              "    .dataframe tbody tr th {\n",
              "        vertical-align: top;\n",
              "    }\n",
              "\n",
              "    .dataframe thead th {\n",
              "        text-align: right;\n",
              "    }\n",
              "</style>\n",
              "<table border=\"1\" class=\"dataframe\">\n",
              "  <thead>\n",
              "    <tr style=\"text-align: right;\">\n",
              "      <th>label</th>\n",
              "      <th>0</th>\n",
              "      <th>1</th>\n",
              "    </tr>\n",
              "    <tr>\n",
              "      <th>Missing Title</th>\n",
              "      <th></th>\n",
              "      <th></th>\n",
              "    </tr>\n",
              "  </thead>\n",
              "  <tbody>\n",
              "    <tr>\n",
              "      <th>False</th>\n",
              "      <td>0.514132</td>\n",
              "      <td>0.485868</td>\n",
              "    </tr>\n",
              "    <tr>\n",
              "      <th>True</th>\n",
              "      <td>0.000000</td>\n",
              "      <td>1.000000</td>\n",
              "    </tr>\n",
              "  </tbody>\n",
              "</table>\n",
              "</div>"
            ],
            "text/plain": [
              "label                 0         1\n",
              "Missing Title                    \n",
              "False          0.514132  0.485868\n",
              "True           0.000000  1.000000"
            ]
          },
          "metadata": {},
          "execution_count": 19
        }
      ]
    },
    {
      "cell_type": "markdown",
      "metadata": {
        "id": "cKU4mGu-jw-K"
      },
      "source": [
        "Although not surprising, we probably want to throw these records out too.  Every article that's missing a title was labeled as \"unreliable\" in our training dataset.  Not very interesting for classification, so we likely want to remove these from the problem space.  Similarly, 98.6% of the articles that are missing an author are also labeled as unreliable. For posterity, let's review the articles that are missing an author, but **are not** labeled as unreliable, to try and see if we can glean any insight into why these were labeled the way they were"
      ]
    },
    {
      "cell_type": "code",
      "metadata": {
        "trusted": true,
        "id": "MJZyOBxOjw-L",
        "outputId": "cd3b21dc-6a7a-4800-ed4f-642372d456f9",
        "colab": {
          "base_uri": "https://localhost:8080/",
          "height": 865
        }
      },
      "source": [
        "missing_author_not_fake = train[(train.author.isna()) & (train.label == 0)]\n",
        "missing_author_not_fake"
      ],
      "execution_count": 20,
      "outputs": [
        {
          "output_type": "execute_result",
          "data": {
            "text/html": [
              "<div>\n",
              "<style scoped>\n",
              "    .dataframe tbody tr th:only-of-type {\n",
              "        vertical-align: middle;\n",
              "    }\n",
              "\n",
              "    .dataframe tbody tr th {\n",
              "        vertical-align: top;\n",
              "    }\n",
              "\n",
              "    .dataframe thead th {\n",
              "        text-align: right;\n",
              "    }\n",
              "</style>\n",
              "<table border=\"1\" class=\"dataframe\">\n",
              "  <thead>\n",
              "    <tr style=\"text-align: right;\">\n",
              "      <th></th>\n",
              "      <th>id</th>\n",
              "      <th>title</th>\n",
              "      <th>author</th>\n",
              "      <th>text</th>\n",
              "      <th>label</th>\n",
              "    </tr>\n",
              "  </thead>\n",
              "  <tbody>\n",
              "    <tr>\n",
              "      <th>8</th>\n",
              "      <td>8</td>\n",
              "      <td>Excerpts From a Draft Script for Donald Trump’...</td>\n",
              "      <td>NaN</td>\n",
              "      <td>Donald J. Trump is scheduled to make a highly ...</td>\n",
              "      <td>0</td>\n",
              "    </tr>\n",
              "    <tr>\n",
              "      <th>685</th>\n",
              "      <td>685</td>\n",
              "      <td>The New York Times to Offer Open Access on Web...</td>\n",
              "      <td>NaN</td>\n",
              "      <td>The New York Times is inviting readers to take...</td>\n",
              "      <td>0</td>\n",
              "    </tr>\n",
              "    <tr>\n",
              "      <th>2785</th>\n",
              "      <td>2785</td>\n",
              "      <td>How the Poll Was Conducted - The New York Times</td>\n",
              "      <td>NaN</td>\n",
              "      <td>The latest New York   News Poll is based on te...</td>\n",
              "      <td>0</td>\n",
              "    </tr>\n",
              "    <tr>\n",
              "      <th>3203</th>\n",
              "      <td>3203</td>\n",
              "      <td>37 Who Saw Murder Didn’t Call the Police - The...</td>\n",
              "      <td>NaN</td>\n",
              "      <td>For more than half an hour 38 respectable, law...</td>\n",
              "      <td>0</td>\n",
              "    </tr>\n",
              "    <tr>\n",
              "      <th>3470</th>\n",
              "      <td>3470</td>\n",
              "      <td>‘My First Gay Bar’: Rachel Maddow, Andy Cohen ...</td>\n",
              "      <td>NaN</td>\n",
              "      <td>For generations of gays and lesbians, especial...</td>\n",
              "      <td>0</td>\n",
              "    </tr>\n",
              "    <tr>\n",
              "      <th>3675</th>\n",
              "      <td>3675</td>\n",
              "      <td>2 TV Shows, 4 Books and 7 Viral Videos for You...</td>\n",
              "      <td>NaN</td>\n",
              "      <td>Summer’s almost over. Here’s a cultural diet f...</td>\n",
              "      <td>0</td>\n",
              "    </tr>\n",
              "    <tr>\n",
              "      <th>5239</th>\n",
              "      <td>5239</td>\n",
              "      <td>Text of F.B.I. Director’s Remarks on Investiga...</td>\n",
              "      <td>NaN</td>\n",
              "      <td>Following is the prepared text of remarks by D...</td>\n",
              "      <td>0</td>\n",
              "    </tr>\n",
              "    <tr>\n",
              "      <th>5608</th>\n",
              "      <td>5608</td>\n",
              "      <td>As Hurricane Matthew Nears U.S., Residents Get...</td>\n",
              "      <td>NaN</td>\n",
              "      <td>• Hurricane Matthew, a deadly storm with maxim...</td>\n",
              "      <td>0</td>\n",
              "    </tr>\n",
              "    <tr>\n",
              "      <th>5911</th>\n",
              "      <td>5911</td>\n",
              "      <td>Keep Your Family Close and Your Roomba Closer ...</td>\n",
              "      <td>NaN</td>\n",
              "      <td>How lovable can a robot be? A study of Roomba ...</td>\n",
              "      <td>0</td>\n",
              "    </tr>\n",
              "    <tr>\n",
              "      <th>7032</th>\n",
              "      <td>7032</td>\n",
              "      <td>Reactions to the Supreme Court Ruling on Texas...</td>\n",
              "      <td>NaN</td>\n",
              "      <td>In a major abortion ruling Monday, the Supreme...</td>\n",
              "      <td>0</td>\n",
              "    </tr>\n",
              "    <tr>\n",
              "      <th>8397</th>\n",
              "      <td>8397</td>\n",
              "      <td>Fran Lebowitz: By the Book - The New York Times</td>\n",
              "      <td>NaN</td>\n",
              "      <td>The humorist and social commentator says her i...</td>\n",
              "      <td>0</td>\n",
              "    </tr>\n",
              "    <tr>\n",
              "      <th>10204</th>\n",
              "      <td>10204</td>\n",
              "      <td>Full Transcript and Video: Trump News Conferen...</td>\n",
              "      <td>NaN</td>\n",
              "      <td>President Trump on Thursday announced his new ...</td>\n",
              "      <td>0</td>\n",
              "    </tr>\n",
              "    <tr>\n",
              "      <th>11986</th>\n",
              "      <td>11986</td>\n",
              "      <td>Hurricane Matthew Approaches Florida Governor ...</td>\n",
              "      <td>NaN</td>\n",
              "      <td>Read Friday’s Storm Watch for the latest updat...</td>\n",
              "      <td>0</td>\n",
              "    </tr>\n",
              "    <tr>\n",
              "      <th>12729</th>\n",
              "      <td>12729</td>\n",
              "      <td>The Best and Worst of the Golden Globes - The ...</td>\n",
              "      <td>NaN</td>\n",
              "      <td>Here’s a look at the most memorable moments fr...</td>\n",
              "      <td>0</td>\n",
              "    </tr>\n",
              "    <tr>\n",
              "      <th>13267</th>\n",
              "      <td>13267</td>\n",
              "      <td>Notes From Aleppo: Intimate Glimpses of War-Ra...</td>\n",
              "      <td>NaN</td>\n",
              "      <td>Declan Walsh, our bureau chief in Cairo, is in...</td>\n",
              "      <td>0</td>\n",
              "    </tr>\n",
              "    <tr>\n",
              "      <th>13993</th>\n",
              "      <td>13993</td>\n",
              "      <td>Full Transcript and Video: Trump Picks Neil Go...</td>\n",
              "      <td>NaN</td>\n",
              "      <td>President Trump announced on Tuesday that Neil...</td>\n",
              "      <td>0</td>\n",
              "    </tr>\n",
              "    <tr>\n",
              "      <th>13995</th>\n",
              "      <td>13995</td>\n",
              "      <td>To Our Readers, From the Publisher and Executi...</td>\n",
              "      <td>NaN</td>\n",
              "      <td>When the biggest political story of the year r...</td>\n",
              "      <td>0</td>\n",
              "    </tr>\n",
              "    <tr>\n",
              "      <th>14228</th>\n",
              "      <td>14228</td>\n",
              "      <td>Transcript: President Obama on What Books Mean...</td>\n",
              "      <td>NaN</td>\n",
              "      <td>Michiko Kakutani, the chief book critic for Th...</td>\n",
              "      <td>0</td>\n",
              "    </tr>\n",
              "    <tr>\n",
              "      <th>15876</th>\n",
              "      <td>15876</td>\n",
              "      <td>9 New Books We Recommend This Week - The New Y...</td>\n",
              "      <td>NaN</td>\n",
              "      <td>I know, the number of big books out each fall ...</td>\n",
              "      <td>0</td>\n",
              "    </tr>\n",
              "    <tr>\n",
              "      <th>15893</th>\n",
              "      <td>15893</td>\n",
              "      <td>Reaction to a Supreme Court Tie on Immigration...</td>\n",
              "      <td>NaN</td>\n",
              "      <td>The Supreme Court’s   vote in a major immigrat...</td>\n",
              "      <td>0</td>\n",
              "    </tr>\n",
              "    <tr>\n",
              "      <th>16403</th>\n",
              "      <td>16403</td>\n",
              "      <td>Grammy Winners 2017 - The New York Times</td>\n",
              "      <td>NaN</td>\n",
              "      <td>The complete list of winners: Record of the Ye...</td>\n",
              "      <td>0</td>\n",
              "    </tr>\n",
              "    <tr>\n",
              "      <th>17837</th>\n",
              "      <td>17837</td>\n",
              "      <td>At the Tonys, Moments to Remember - The New Yo...</td>\n",
              "      <td>NaN</td>\n",
              "      <td>In a Tony Awards night shadowed by the tragedy...</td>\n",
              "      <td>0</td>\n",
              "    </tr>\n",
              "    <tr>\n",
              "      <th>17943</th>\n",
              "      <td>17943</td>\n",
              "      <td>Hurricane Matthew Avoids Direct Hit on Florida...</td>\n",
              "      <td>NaN</td>\n",
              "      <td>Hurricane Matthew churned north along the coas...</td>\n",
              "      <td>0</td>\n",
              "    </tr>\n",
              "    <tr>\n",
              "      <th>17993</th>\n",
              "      <td>17993</td>\n",
              "      <td>California Today: Airbnb, a Hometown Success (...</td>\n",
              "      <td>NaN</td>\n",
              "      <td>Good morning. This is the last day of our test...</td>\n",
              "      <td>0</td>\n",
              "    </tr>\n",
              "    <tr>\n",
              "      <th>19265</th>\n",
              "      <td>19265</td>\n",
              "      <td>My Canada - The New York Times</td>\n",
              "      <td>NaN</td>\n",
              "      <td>Canada, our No. 1 pick for this year’s 52 Plac...</td>\n",
              "      <td>0</td>\n",
              "    </tr>\n",
              "    <tr>\n",
              "      <th>19704</th>\n",
              "      <td>19704</td>\n",
              "      <td>100 Notable Books of 2016 - The New York Times</td>\n",
              "      <td>NaN</td>\n",
              "      <td>The year’s notable fiction, poetry and nonfict...</td>\n",
              "      <td>0</td>\n",
              "    </tr>\n",
              "  </tbody>\n",
              "</table>\n",
              "</div>"
            ],
            "text/plain": [
              "          id  ... label\n",
              "8          8  ...     0\n",
              "685      685  ...     0\n",
              "2785    2785  ...     0\n",
              "3203    3203  ...     0\n",
              "3470    3470  ...     0\n",
              "3675    3675  ...     0\n",
              "5239    5239  ...     0\n",
              "5608    5608  ...     0\n",
              "5911    5911  ...     0\n",
              "7032    7032  ...     0\n",
              "8397    8397  ...     0\n",
              "10204  10204  ...     0\n",
              "11986  11986  ...     0\n",
              "12729  12729  ...     0\n",
              "13267  13267  ...     0\n",
              "13993  13993  ...     0\n",
              "13995  13995  ...     0\n",
              "14228  14228  ...     0\n",
              "15876  15876  ...     0\n",
              "15893  15893  ...     0\n",
              "16403  16403  ...     0\n",
              "17837  17837  ...     0\n",
              "17943  17943  ...     0\n",
              "17993  17993  ...     0\n",
              "19265  19265  ...     0\n",
              "19704  19704  ...     0\n",
              "\n",
              "[26 rows x 5 columns]"
            ]
          },
          "metadata": {},
          "execution_count": 20
        }
      ]
    },
    {
      "cell_type": "markdown",
      "metadata": {
        "id": "eY163767jw-L"
      },
      "source": [
        "Let's inspect one of these records in detail to see if we can glean why the article is suspicious or not"
      ]
    },
    {
      "cell_type": "code",
      "metadata": {
        "trusted": true,
        "id": "rPY6UfhPjw-L",
        "outputId": "e745a113-115f-4013-d7c3-b5c498d5f62f",
        "colab": {
          "base_uri": "https://localhost:8080/",
          "height": 122
        }
      },
      "source": [
        "train.iloc[8].title\n",
        "train.iloc[8].text"
      ],
      "execution_count": 21,
      "outputs": [
        {
          "output_type": "execute_result",
          "data": {
            "application/vnd.google.colaboratory.intrinsic+json": {
              "type": "string"
            },
            "text/plain": [
              "'Donald J. Trump is scheduled to make a highly anticipated visit to an   church in Detroit on Saturday, the first such visit of his campaign. There, he will participate in a    session conducted by Bishop Wayne T. Jackson of the church, Great Faith Ministries International. Given the importance of the visit, the Trump team went so far as to script Mr. Trump’s answers to Bishop Jackson’s questions, which were submitted in advance. After this article was published on Thursday night, a campaign official said that Mr. Trump would also speak to the church’s congregation and then tour some neighborhoods with Ben Carson, a former presidential candidate and Detroit native. Below are excerpts from a draft of the script that was obtained by The New York Times. _____ Mr. Trump there is racial divide in our country and it is evident that the tension is boiling over. Case and point Reverend Pinckney in South Carolina was gunned down when a white young man came into their Bible Study and slaughtered the Reverend and eight other individuals because he wanted to start a race war. What would your administration do to bring down the racial tension that is in our Country? In the Bible Jesus said that a house divided cannot stand. Our best hope for erasing racial tensions in America is to work toward a   society. In business, we hire, retain and award based on merit. In society, however, we have divisions that can only be eliminated if we have equal opportunity and then equal access to programs and institutions that will lift all people in the country. We have to reform our tax system so that we can spur economic growth for the long haul. We have to have stronger enforcement of immigration laws. We have to renegotiate our trade deals so that we can bring advantage back to the American workforce. But perhaps most important is that we must provide equal opportunity for a quality education for all Americans. The higher the educational attainment, the greater the likelihood one can climb the economic ladder. We must bring school choice programs to our cities and we must get rid of Common Core. We must make sure that access, affordability and accountability are brought into our higher education system. Without a focus on educational outcomes for every American, we will perpetuate the permanent underclass that progressive policies have sustained. Republicans like me need to have the courage to speak the truth about where we are and what has to be done. We have to have the courage to go into communities and work with everyone there to make sure that our schools are good and that our children have access to the whatever educational situation they may need. This is not something one person can do, but it is something that we can do together. _____ Mr. Trump there is a perception that your administration is racist. With many of the African American voters their belief is that the Republican Party as a whole does not cater to African American needs. In 2008 and 2012 we had two Republican Candidates John McCain and Mitt Romney and neither one of them came to Detroit, or any urban area that I can remember to even address the concerns of our community. First I would like to commend you for coming to our community as a Republican Candidate. Second I need to know how would you change that perception in our community? The proof, as they say, will be in the pudding. Coming into a community is meaningless unless we can offer an alternative to the horrible progressive agenda that has perpetuated a permanent underclass in America. We need to be true to our word and offer all Americans more opportunities so that each and every one of them can reach their full potential. This means economic policies that will bring jobs back to America and will raise wages for all. This means working hard to provide as many educational options as possible to our parents and children. This means cleaning up drugs and making our neighborhoods and communities safer. We need to get people off welfare and back to work. We need to make sure that anyone who qualifies can go into a bank, get a loan and then start a business. We need to reduce regulations and expand options for people who want to be independent of government. We need to make sure that people can worship how they want and where they want without worrying that some federal agency is going to threaten the religious liberties. Republicans have better options. We just need to have the courage to present them with conviction. _____ Mr. Trump what is your vision for America? And specifically Black America? If you repeal Obama care what is your plan to provide health care and medicine to those who can’t afford it, yet need it the most? As President, I must serve all Americans without regard to race, ethnicity or any other qualification. I must approach my task with the utmost wisdom and make sure that all Americans have opportunities to achieve to their potential. If we are to Make America Great Again, we must reduce, rather than highlight, issues of race in this country. I want to make race disappear as a factor in government and governance. Every individual, regardless of race or ethnicity, must have access to the full array of opportunities in America. My vision for America is that every citizen and legal resident of this nation will be able to stand side by side and be proud of the fact that they live in the greatest nation on earth. As for the Affordable Care Act, I will work to repeal the act and replace it with market driven solutions that will offer more access to healthcare at more affordable prices. Every American should be able to purchase health insurance across state lines, have health savings account that belong to them, have price transparency so they can shop for the best services at the best prices and know that they will not have to compete with those who are clogging the system simply because they are in this country illegally. We want to block grant Medicaid so that states can provide services closer to the people. We want to make sure that every American has great economic opportunity so that they can seek out their own health insurance and still be able to afford it. This approach will serve all Americans and will ensure that more Americans are covered by better insurance and healthcare options. _____ Mr. Trump I am a registered Democrat but I am an undecided voter in this election for 2016. It is not only myself but there has been a lot of Pastors and African Americans who have not made up their minds concerning who they are going to cast their vote for. The latest polls indicate that you have 1 percent of the African American vote. What can you say to undecided voters such as myself and others in the African American Community that will win our vote on November 8, 2016? And beyond winning, why is the African American vote important to you? All votes are important to me and my campaign. Your vote, your neighbor’s vote, the vote of every American is critical and I must do all I can to make sure you know that if you vote for me, you are voting for a stronger, more vibrant America. My policies offer you a clear choice. You can continue down the road of progressivism that has created a permanent underclass in this country that, unfortunately, includes far too many people of color. If you want a better America, you must break from the historical hold that Democrats have had on people of color and move to options that allow you to achieve your potential. This is all about opportunity  —   not   outcomes and promises of things to come that never materialize. The progressives have worked tirelessly to bring all Americans down to one level rather than allowing as many as possible to rise as high as possible. Education, jobs, religious liberty and protection of civil rights are the promises that I will keep, not just utter to gain favor. If you are interested in a greater America with more opportunity, liberty and prosperity, you must take a chance and walk over to my side. If you want a strong partner in this journey, you will vote for me. I will never let you down. By the way, my support is now up to 8% and climbing.'"
            ]
          },
          "metadata": {},
          "execution_count": 21
        }
      ]
    },
    {
      "cell_type": "markdown",
      "metadata": {
        "id": "a3CcT9Wljw-M"
      },
      "source": [
        "The title informs that this article came from the New York Times, a very reputable news source.  Even though the author is missing, perhaps the fact that this is a New York Times article negates any reliability issues we might infer from the missing author.  For now we'll leave in records that are missing their authors, although our ML models will likely always classify articles missing an author as unreliable (as the misclassification error will be very minimal if we classify the few articles **without** authors as unreliable, even though they were labeled as reliable).  We'll throw out the records that are missing a title, as all of those were considered unreliable"
      ]
    },
    {
      "cell_type": "code",
      "metadata": {
        "trusted": true,
        "id": "ZPQ1pmTXjw-M"
      },
      "source": [
        "train = train[train.title.notna()]\n",
        "test = test[test.title.notna()]"
      ],
      "execution_count": 22,
      "outputs": []
    },
    {
      "cell_type": "markdown",
      "metadata": {
        "id": "ngvbpsF-jw-M"
      },
      "source": [
        "Before completing our EDA, let's review some really basic statistics about titles, authors, and text as they relate to reliable or unreliable news sources.  For authors and titles, let's see if the length of the title or the number of authors is at all related to the reliability of the article.  For the text content, let's see if the number of words has any impact"
      ]
    },
    {
      "cell_type": "code",
      "metadata": {
        "trusted": true,
        "id": "w24iQvCUjw-N",
        "outputId": "dd687843-b116-431b-fb2c-3a40465207ca",
        "colab": {
          "base_uri": "https://localhost:8080/"
        }
      },
      "source": [
        "# Import the nltk (Natural Language Toolkit) library to perform word and sentence processing\n",
        "import nltk\n",
        "from nltk.tokenize import word_tokenize, sent_tokenize\n",
        "from nltk.corpus import stopwords\n",
        "nltk.download('punkt')\n",
        "nltk.download('stopwords')\n",
        "nltk.download('averaged_perceptron_tagger')\n",
        "nltk.download('maxent_ne_chunker')\n",
        "nltk.download('words')\n",
        "nltk.download('wordnet')\n",
        "import string"
      ],
      "execution_count": 23,
      "outputs": [
        {
          "output_type": "stream",
          "name": "stdout",
          "text": [
            "[nltk_data] Downloading package punkt to /root/nltk_data...\n",
            "[nltk_data]   Unzipping tokenizers/punkt.zip.\n",
            "[nltk_data] Downloading package stopwords to /root/nltk_data...\n",
            "[nltk_data]   Unzipping corpora/stopwords.zip.\n",
            "[nltk_data] Downloading package averaged_perceptron_tagger to\n",
            "[nltk_data]     /root/nltk_data...\n",
            "[nltk_data]   Unzipping taggers/averaged_perceptron_tagger.zip.\n",
            "[nltk_data] Downloading package maxent_ne_chunker to\n",
            "[nltk_data]     /root/nltk_data...\n",
            "[nltk_data]   Unzipping chunkers/maxent_ne_chunker.zip.\n",
            "[nltk_data] Downloading package words to /root/nltk_data...\n",
            "[nltk_data]   Unzipping corpora/words.zip.\n",
            "[nltk_data] Downloading package wordnet to /root/nltk_data...\n",
            "[nltk_data]   Unzipping corpora/wordnet.zip.\n"
          ]
        }
      ]
    },
    {
      "cell_type": "code",
      "metadata": {
        "trusted": true,
        "id": "oqc3ouQljw-N"
      },
      "source": [
        "# Cast the title, author and text to str types\n",
        "train[['title','author','text']] = train[['title','author','text']].astype('string')\n",
        "\n",
        "# Compute the length of the title\n",
        "train['title-length'] = train['title'].apply(lambda x: len(str(x)))\n",
        "\n",
        "# Get the number of words in the title and the main article text.  Note it takes a while for the tokenization\n",
        "stoplist = set(stopwords.words('english') + list(string.punctuation)) # Sets have O(1) lookup in Python\n",
        "def count_words(s):\n",
        "    return len([word for word in word_tokenize(s) if word.lower() not in stoplist and not word.isdigit()])\n",
        "\n",
        "train['title-word-count'] = train['title'].apply(count_words)\n",
        "# Note that nltk.word_tokenize is relatively slow on large text entries.  We'll use a simpler function for the number of words in the article \"text\" field (though not as accurate)\n",
        "train['text-word-count'] = train['text'].apply(lambda x: len(str(x).split()))\n",
        "\n",
        "\"\"\"\n",
        "Get the number of authors from the author field by searching for proper nouns\n",
        "The function we use is an amended version of this code here: https://tim.mcnamara.nz/post/2650550090/extracting-names-with-6-lines-of-python-code\n",
        "\"\"\"\n",
        "def get_people(text):\n",
        "    people = []\n",
        "    for sentence in sent_tokenize(text):\n",
        "        for chunk in nltk.ne_chunk(nltk.pos_tag(word_tokenize(sentence))):\n",
        "            if hasattr(chunk, 'label'):\n",
        "                if chunk.label() == 'PERSON':\n",
        "                    people.append(' '.join(c[0] for c in chunk.leaves()))\n",
        "    return people\n",
        "train['author-count'] = train['author'].apply(lambda x: len(get_people(x)) if pd.notnull(x) else 0)"
      ],
      "execution_count": 24,
      "outputs": []
    },
    {
      "cell_type": "code",
      "metadata": {
        "trusted": true,
        "id": "hRrlxvkzjw-N",
        "outputId": "451aa354-7ca1-435b-e960-81a238ce0ff5",
        "colab": {
          "base_uri": "https://localhost:8080/",
          "height": 733
        }
      },
      "source": [
        "# We'll create plots of these values showing the frequency of unreliable articles as it relates to the counts\n",
        "fix, (ax1,ax2,ax3) = plt.subplots(nrows=3, ncols=2, figsize=(10,12))\n",
        "# Length of the article title\n",
        "train_title_length = train[train.label == 1]['title-length']\n",
        "ax1[0].hist(train_title_length)\n",
        "ax1[0].axvline(train_title_length.mean(), linestyle='dashed', color='red')\n",
        "ax1[0].text(train_title_length.mean(), 4500, str(round(train_title_length.mean(), 0)), color='red', fontsize=18)\n",
        "ax1[0].set_title('Length of article title in unreliable news articles')\n",
        "train_title_length = train[train.label == 0]['title-length']\n",
        "ax1[1].hist(train_title_length)\n",
        "ax1[1].axvline(train_title_length.mean(), linestyle='dashed', color='red')\n",
        "ax1[1].text(train_title_length.mean(), 2500, str(round(train_title_length.mean(), 0)), color='red', fontsize=18)\n",
        "ax1[1].set_title('Length of article title in reliable news articles')\n",
        "\n",
        "# Number of words in the article\n",
        "train_text_words = train[train.label == 1]['text-word-count']\n",
        "ax2[0].hist(train_text_words)\n",
        "ax2[0].axvline(train_text_words.mean(), linestyle='dashed', color='red')\n",
        "ax2[0].text(train_text_words.mean(), 4500, str(round(train_text_words.mean(), 0)), color='red', fontsize=18)\n",
        "ax2[0].set_title('# Words in unreliable news articles')\n",
        "train_text_words = train[train.label == 0]['text-word-count']\n",
        "ax2[1].hist(train_text_words)\n",
        "ax2[1].axvline(train_text_words.mean(), linestyle='dashed', color='red')\n",
        "ax2[1].text(train_text_words.mean(), 2500, str(round(train_text_words.mean(), 0)), color='red', fontsize=18)\n",
        "ax2[1].set_title('# Words in reliable news articles')\n",
        "\n",
        "# Number of authors\n",
        "train_authors = train[train.label == 1]['author-count']\n",
        "ax3[0].hist(train_authors)\n",
        "ax3[0].axvline(train_authors.mean(), linestyle='dashed', color='red')\n",
        "ax3[0].text(train_authors.mean(), 4500, str(round(train_authors.mean(), 0)), color='red', fontsize=18)\n",
        "ax3[0].set_title('# Authors in unreliable news articles')\n",
        "train_authors = train[train.label == 0]['author-count']\n",
        "ax3[1].hist(train_authors)\n",
        "ax3[1].axvline(train_authors.mean(), linestyle='dashed', color='red')\n",
        "ax3[1].text(train_authors.mean(), 2500, str(round(train_authors.mean(), 0)), color='red', fontsize=18)\n",
        "ax3[1].set_title('# Authors in reliable news articles')"
      ],
      "execution_count": 25,
      "outputs": [
        {
          "output_type": "execute_result",
          "data": {
            "text/plain": [
              "Text(0.5, 1.0, '# Authors in reliable news articles')"
            ]
          },
          "metadata": {},
          "execution_count": 25
        },
        {
          "output_type": "display_data",
          "data": {
            "image/png": "[encoded data removed]",
            "text/plain": [
              "<Figure size 720x864 with 6 Axes>"
            ]
          },
          "metadata": {
            "needs_background": "light"
          }
        }
      ]
    },
    {
      "cell_type": "markdown",
      "metadata": {
        "tags": [],
        "id": "d88Gvj2fjw-O"
      },
      "source": [
        "## Step 2: Text Processing\n",
        "In order to use our text fields for model building, we need to process the text data within each field to transform it into a format suitable for modeling.  This generally involves the following steps:\n",
        "\n",
        "1. Simple cleansing\n",
        "    1. Remove punctuation, special characters, URLs, etc.\n",
        "    2. Remove leading, trailing and extra white space/tabs\n",
        "    3. Correct typos, slang, and convert abbreviated words into their \"normal\" form\n",
        "2. Stop word removal - remove generic stop words from the text fiel such as \"I\", \"you\", \"a\", \"the\", etc.  These don't add much meaning to the actual content of the text\n",
        "3. Word vectorization - machine learning models typically need numerical data.  Word vectorization is the process of converting raw text into a vector of numerical data\n",
        "    1. We can use sklearn BoW (Bag of Words) and compute the following:\n",
        "        1. Count vector - builds a list of all words from a corpus of documents (e.g. list of documents) and counts how many the words appear in each document\n",
        "        2. TF-IDF (Term Frequency Inverse Document Frequencies) - The \"value\" of words increases proportionally to the count of that word in the document, but is inversely propotional to the frequency of the word in the corpus\n",
        "    2. Word2Vec - another NLP library, uses a neural net to learn word associations from a corpus of text. The neural net can detect synonomous words or suggest additional words for partial sentences.  This library builds word vectors much like BoW does "
      ]
    },
    {
      "cell_type": "code",
      "metadata": {
        "trusted": true,
        "id": "Cd57Rplvjw-O"
      },
      "source": [
        "\"\"\"\n",
        "Below are the methods we'll use to first cleanse the text data in our title and text (e.g. article) fields.\n",
        "The \"author\" field we'll perform more custom processing\n",
        "\"\"\"\n",
        "import re\n",
        "\n",
        "# Below we're going to try and use Pandas vectorized methods to make processing as quick as possible\n",
        "cachedstopwords = stopwords.words('english')\n",
        "def simple_cleanse(df, column_name):\n",
        "    # Convert to lowercase\n",
        "    df[column_name+'_clean'] = df[column_name].str.lower()\n",
        "    # Strip leading and trailing whitespace\n",
        "    df[column_name+'_clean'] = df[column_name+'_clean'].str.strip()\n",
        "    #Remove all punctuation\n",
        "    df[column_name+'_clean'] = df[column_name+'_clean'].str.translate(str.maketrans('','',string.punctuation))\n",
        "    # Remove stopwords\n",
        "    df[column_name+'_clean'] = df[column_name+'_clean'].apply(lambda text: ' '.join([word for word in text.split() if word not in cachedstopwords]))\n",
        "    # Remove numbers\n",
        "    df[column_name+'_clean'] = df[column_name+'_clean'].str.replace(r'[0-9]+','', regex=True)\n",
        "    # Remove URLs (anything that begins with HTTP)\n",
        "    df[column_name+'_clean'] = df[column_name+'_clean'].str.replace(r'http\\S+','', regex=True)\n",
        "    # Remove redundant whitespace\n",
        "    df[column_name+'_clean'] = df[column_name+'_clean'].str.replace(r'\\s+', ' ', regex=True)\n",
        "    # Remove apostrophes - these aren't really relevant for word analysis\n",
        "    df[column_name+'_clean'] = df[column_name+'_clean'].str.replace(r'(\\'|\\\"|\\`|\\’)', \"\", regex=True)\n",
        "        \n",
        "simple_cleanse(train, 'text')\n",
        "simple_cleanse(train, 'title')\n",
        "simple_cleanse(test, 'text')\n",
        "simple_cleanse(test, 'title')\n",
        "\n",
        "# Let's also tokenize our \"cleaned\" words for more processing\n",
        "train['text_clean_tok'] = train['text_clean'].apply(word_tokenize)\n",
        "train['title_clean_tok'] = train['title_clean'].apply(word_tokenize)\n",
        "test['text_clean_tok'] = test['text_clean'].apply(word_tokenize)\n",
        "test['title_clean_tok'] = test['title_clean'].apply(word_tokenize)\n",
        "\n",
        "# Compute the author count\n",
        "test['author-count'] = test['author'].apply(lambda x: len(get_people(x)) if pd.notnull(x) else 0)"
      ],
      "execution_count": 30,
      "outputs": []
    },
    {
      "cell_type": "code",
      "metadata": {
        "id": "Ma0ezhs32dUj",
        "outputId": "ee6d6e0d-2025-4a0b-ba5a-e5e23f605ece",
        "colab": {
          "base_uri": "https://localhost:8080/"
        }
      },
      "source": [
        "pip install pyspellchecker"
      ],
      "execution_count": 31,
      "outputs": [
        {
          "output_type": "stream",
          "name": "stdout",
          "text": [
            "Collecting pyspellchecker\n",
            "  Downloading pyspellchecker-0.6.2-py3-none-any.whl (2.7 MB)\n",
            "\u001b[K     |████████████████████████████████| 2.7 MB 5.1 MB/s \n",
            "\u001b[?25hInstalling collected packages: pyspellchecker\n",
            "Successfully installed pyspellchecker-0.6.2\n"
          ]
        }
      ]
    },
    {
      "cell_type": "code",
      "metadata": {
        "trusted": true,
        "id": "zvP8f0qNjw-P"
      },
      "source": [
        "\"\"\"\n",
        "Additional features\n",
        "    Here we'll add some other features which might be of interest.  For example, does the article text contain mispelled words?  If so how many?\n",
        "\"\"\"\n",
        "# Check for mispelled words\n",
        "from spellchecker import SpellChecker\n",
        "spell = SpellChecker()\n",
        "train['title_mispelled'] = train['title_clean_tok'].apply(lambda x: len(spell.unknown(x)))\n",
        "train['text_mispelled'] = train['text_clean_tok'].apply(lambda x: len(spell.unknown(x)))\n",
        "test['title_mispelled'] = test['title_clean_tok'].apply(lambda x: len(spell.unknown(x)))\n",
        "test['text_mispelled'] = test['text_clean_tok'].apply(lambda x: len(spell.unknown(x)))\n",
        "\n",
        "# Create an authors categorical variable\n",
        "# 1. 1 person\n",
        "# 2. 2 people\n",
        "# 3. 3 people\n",
        "# 4. 4 people\n",
        "# 5. An organization (e.g. NewsWeek, CNN, etc.)\n",
        "# 6. Anonymous\n",
        "# 7. Unknown (a catch-all category if we can't figure out if there was a legitimate author or not)\n"
      ],
      "execution_count": null,
      "outputs": []
    },
    {
      "cell_type": "code",
      "metadata": {
        "id": "tWXt96R4I8k5"
      },
      "source": [
        ""
      ],
      "execution_count": null,
      "outputs": []
    },
    {
      "cell_type": "code",
      "metadata": {
        "id": "Hs35waFX5IKM"
      },
      "source": [
        "# Vectorization of the text fields\n",
        "\"\"\"\n",
        "Here we use sci-kit learn to vectorize our cleansed text\n",
        "\"\"\"\n",
        "# Text field processing first\n",
        "from sklearn.feature_extraction.text import CountVectorizer\n",
        "countvectorizer = CountVectorizer()\n",
        "text_counts_train = countvectorizer.fit_transform(train.text_clean)\n",
        "text_counts_test = countvectorizer.transform(test.text_clean)\n",
        "\n",
        "from sklearn.feature_extraction.text import TfidfTransformer\n",
        "tfidf = TfidfTransformer()\n",
        "text_tfidf_train = tfidf.fit_transform(text_counts_train)\n",
        "text_tfidf_test = tfidf.transform(text_counts_test)\n",
        "\n",
        "# Title field processing\n",
        "title_counts_train = countvectorizer.fit_transform(train.title_clean)\n",
        "title_counts_test = countvectorizer.transform(test.title_clean)\n",
        "title_tfidf_train = tfidf.fit_transform(title_counts_train)\n",
        "title_tfidf_test = tfidf.transform(title_counts_test)\n",
        "\n",
        "# Combine into a single sparse matrix\n",
        "from scipy.sparse import hstack\n",
        "train_tfidf = hstack((title_tfidf_train, text_tfidf_train))\n",
        "test_tfidf = hstack((title_tfidf_test, text_tfidf_test))\n"
      ],
      "execution_count": null,
      "outputs": []
    },
    {
      "cell_type": "markdown",
      "metadata": {
        "id": "F2kpUvKqjw-Q"
      },
      "source": [
        "## Step 3: Building ML Algorithms\n",
        "In this section we'll use our vectorized text data with some of our other features to try and classify articles as real or fake. There are a number of ML models that one can utilize for classification, but we're going to consider a subset of the model space for this exercise\n",
        "1. Naive Bayes - this is usually a good baseline to compare other algorithms against.  Basically we just apply Bayes' theorem with the naive assumption of conditional independence between every pair of features\n",
        "2. Logistic Regression - logistic regression models are very interpretable, in that the coefficient value computed on a feature states its' relation to the predicted probability for a class value (in terms of log odds).  For example, a positive coefficient on the \"number of mispelled words in the article\" features can be interpreted as the more mispelled words found in the article, the more likely the article is to be fake\n",
        "3. Gradient Boosting - this is the ML algorithm we'll focus on in this project.  Gradient boosting has a lot of coverage in the literature, and is known to provide very powerful predictors.  The drawback is that gradient boosting tends to overfit the data.  In this project we benefit from the presence of a test set that we can provide in addition to our training dataset.  When building the gradient boost model, the algorithm will penalize features that overfit on the train dataset but underfit (or provide poor prediction) on the test dataset"
      ]
    },
    {
      "cell_type": "code",
      "metadata": {
        "trusted": true,
        "id": "FaE0iLenjw-Q"
      },
      "source": [
        "\"\"\"\n",
        "Train a Naive Bayes Multinomial classifier - this is typically used for text classification\n",
        "This is a good \"base\" model against which we can compare our results from more \"advanced\" algorithms\n",
        "\"\"\"\n",
        "from sklearn.naive_bayes import MultinomialNB\n",
        "\n",
        "# Train the model \n",
        "nb_classifier = MultinomialNB().fit(train_tfidf, train.label)\n",
        "\n",
        "# Confirm it's accuracy\n",
        "\n"
      ],
      "execution_count": null,
      "outputs": []
    }
  ]
}