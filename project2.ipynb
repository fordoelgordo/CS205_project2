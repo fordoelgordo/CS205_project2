{
 "cells": [
  {
   "cell_type": "markdown",
   "metadata": {},
   "source": [
    "## Fake News or Not?\n",
    "#### Ford St. John and Matthew Duc Nguyen\n",
    "<img src=\"https://static01.nyt.com/images/2019/10/02/business/02TRUMPMEDIA-01/02TRUMPMEDIA-01-superJumbo.jpg\" height=500 width=750>\n",
    "\n",
    "Using the Kaggle dataset ![Fake News](https://www.kaggle.com/c/fake-news/data) we will attempt to train a machine learning model that can identify news articles as \"reliable\" or \"unreliable\" (e.g. fake) based on the following article attributes\n",
    "1. id: a unique ID to identify the article\n",
    "2. title: the title of the news article\n",
    "3. author: the author of the news article\n",
    "4. text: the content (actual text) of the news article; may or may not be incomplete\n",
    "\n",
    "Articles are labeled with a boolean 1|0 indicator with 1 = \"unreliable\" and 0 = \"reliable\""
   ]
  },
  {
   "cell_type": "markdown",
   "metadata": {},
   "source": [
    "## Step 1: Exploratory data analysis\n",
    "Before undertaking any model training, we want to get a feel for the data and identify features that we think might merit further exploration.  Our dataset has been pre-split for us into a training and testing set.  We'll use the training dataset to train our model, and use the testing dataset to test our model on data it's never seen before"
   ]
  },
  {
   "cell_type": "code",
   "execution_count": 37,
   "metadata": {},
   "outputs": [
    {
     "name": "stdout",
     "output_type": "stream",
     "text": [
      "fake-news.zip: Skipping, found more recently modified local copy (use --force to force download)\n"
     ]
    }
   ],
   "source": [
    "# Imports needed to acquire and hold our data\n",
    "import pandas as pd\n",
    "import kaggle\n",
    "\n",
    "# Import the data using the kaggle API - note you will be prompted for your Kaggle credentials in order to download the dataset\n",
    "!kaggle competitions download -c fake-news\n",
    "\n",
    "# Unzip the data and read it in as a Pandas DataFrame\n",
    "from zipfile import ZipFile\n",
    "with ZipFile('fake-news.zip', 'r') as zipobj:\n",
    "    zipobj.extractall()\n",
    "train = pd.read_csv('train.csv')\n",
    "test = pd.read_csv('test.csv')\n",
    "submit = pd.read_csv('submit.csv')\n",
    "\n",
    "# Join the test and submit datasets together.  Submit contains the \"true\" classification for the articles present in the test dataset\n",
    "test = pd.merge(test, submit)"
   ]
  },
  {
   "cell_type": "markdown",
   "metadata": {},
   "source": [
    "With our data loaded, we can now begin to explore our data.  We'll start by simply looking at the head of both datasets.  We'll then look at the relative number of \"fake\" news articles to reliable news articles and compare those rates in our training and testing datasets"
   ]
  },
  {
   "cell_type": "code",
   "execution_count": 34,
   "metadata": {},
   "outputs": [
    {
     "name": "stdout",
     "output_type": "stream",
     "text": [
      "      id                                              title  \\\n",
      "0  20800  Specter of Trump Loosens Tongues, if Not Purse...   \n",
      "1  20801  Russian warships ready to strike terrorists ne...   \n",
      "2  20802  #NoDAPL: Native American Leaders Vow to Stay A...   \n",
      "3  20803  Tim Tebow Will Attempt Another Comeback, This ...   \n",
      "4  20804                    Keiser Report: Meme Wars (E995)   \n",
      "5  20805  Trump is USA's antique hero. Clinton will be n...   \n",
      "6  20806  Pelosi Calls for FBI Investigation to Find Out...   \n",
      "7  20807            Weekly Featured Profile – Randy Shannon   \n",
      "8  20808  Urban Population Booms Will Make Climate Chang...   \n",
      "9  20809                                                NaN   \n",
      "\n",
      "                    author                                               text  \n",
      "0         David Streitfeld  PALO ALTO, Calif.  —   After years of scorning...  \n",
      "1                      NaN  Russian warships ready to strike terrorists ne...  \n",
      "2            Common Dreams  Videos #NoDAPL: Native American Leaders Vow to...  \n",
      "3            Daniel Victor  If at first you don’t succeed, try a different...  \n",
      "4  Truth Broadcast Network  42 mins ago 1 Views 0 Comments 0 Likes 'For th...  \n",
      "5                      NaN  Trump is USA's antique hero. Clinton will be n...  \n",
      "6                  Pam Key  Sunday on NBC’s “Meet the Press,” House Minori...  \n",
      "7            Trevor Loudon  You are here: Home / *Articles of the Bound* /...  \n",
      "8                      NaN  Urban Population Booms Will Make Climate Chang...  \n",
      "9      cognitive dissident                         don't we have the receipt?  \n"
     ]
    }
   ],
   "source": [
    "# Let's look at the first few records of our data \n",
    "print(train.head(10))\n",
    "print(test.head(10))"
   ]
  },
  {
   "cell_type": "code",
   "execution_count": 47,
   "metadata": {},
   "outputs": [
    {
     "data": {
      "text/plain": [
       "Text(0, 0.5, 'Count')"
      ]
     },
     "execution_count": 47,
     "metadata": {},
     "output_type": "execute_result"
    },
    {
     "data": {
      "image/png": "[encoded data removed]",
      "text/plain": [
       "<Figure size 432x288 with 2 Axes>"
      ]
     },
     "metadata": {
      "needs_background": "light"
     },
     "output_type": "display_data"
    }
   ],
   "source": [
    "# Let's look at the relative rates of fake news to reliable news\n",
    "# Import visualization packages\n",
    "import seaborn as sns \n",
    "import matplotlib.pyplot as plt\n",
    "import warnings\n",
    "warnings.filterwarnings('ignore')\n",
    "\n",
    "# Prepare training set data\n",
    "train_counts = train['label'].value_counts()\n",
    "train_counts.rename({0: 'reliable', 1: 'unreliable'}, inplace=True)\n",
    "# Prepare testing set data\n",
    "test_counts = test['label'].value_counts()\n",
    "test_counts.rename({0: 'reliable', 1: 'unreliable'}, inplace=True)\n",
    "\n",
    "# Plot it\n",
    "fig, (ax1, ax2) = plt.subplots(nrows=1, ncols=2, constrained_layout=True)\n",
    "#fig.tight_layout()\n",
    "sns.barplot(x=train_counts.index, y=train_counts, ax=ax1)\n",
    "ax1.set_xlabel('Training data class frequency')\n",
    "ax1.set_ylabel('Count')\n",
    "sns.barplot(x=test_counts.index, y=test_counts, ax=ax2)\n",
    "ax2.set_xlabel('Testing data class frequency')\n",
    "ax2.set_ylabel('Count')"
   ]
  }
 ],
 "metadata": {
  "interpreter": {
   "hash": "ac59ebe37160ed0dfa835113d9b8498d9f09ceb179beaac4002f036b9467c963"
  },
  "kernelspec": {
   "display_name": "Python 3.9.1 64-bit",
   "language": "python",
   "name": "python3"
  },
  "language_info": {
   "codemirror_mode": {
    "name": "ipython",
    "version": 3
   },
   "file_extension": ".py",
   "mimetype": "text/x-python",
   "name": "python",
   "nbconvert_exporter": "python",
   "pygments_lexer": "ipython3",
   "version": "3.9.1"
  },
  "orig_nbformat": 4
 },
 "nbformat": 4,
 "nbformat_minor": 2
}
